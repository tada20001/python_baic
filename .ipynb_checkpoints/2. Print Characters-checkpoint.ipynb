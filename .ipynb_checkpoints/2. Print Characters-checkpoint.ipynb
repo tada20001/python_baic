{
 "cells": [
  {
   "cell_type": "code",
   "execution_count": 1,
   "metadata": {},
   "outputs": [
    {
     "name": "stdout",
     "output_type": "stream",
     "text": [
      "Hello!\n"
     ]
    }
   ],
   "source": [
    "print(\"Hello!\")"
   ]
  },
  {
   "cell_type": "code",
   "execution_count": 2,
   "metadata": {},
   "outputs": [
    {
     "name": "stdout",
     "output_type": "stream",
     "text": [
      "한글도 쓸 수 있어요.\n"
     ]
    }
   ],
   "source": [
    "print(\"한글도 쓸 수 있어요.\")"
   ]
  },
  {
   "cell_type": "markdown",
   "metadata": {},
   "source": [
    "# 문자열 연산"
   ]
  },
  {
   "cell_type": "code",
   "execution_count": 3,
   "metadata": {},
   "outputs": [
    {
     "name": "stdout",
     "output_type": "stream",
     "text": [
      "내 이름은 홍길동입니다.\n"
     ]
    }
   ],
   "source": [
    "print(\"내 이름은 \" + \"홍길동\" + \"입니다.\")"
   ]
  },
  {
   "cell_type": "code",
   "execution_count": 4,
   "metadata": {},
   "outputs": [
    {
     "name": "stdout",
     "output_type": "stream",
     "text": [
      "**********\n"
     ]
    }
   ],
   "source": [
    "print(\"*\" * 10)"
   ]
  },
  {
   "cell_type": "markdown",
   "metadata": {},
   "source": [
    "# 숫자를 문자열로 바꾸기 : str()"
   ]
  },
  {
   "cell_type": "code",
   "execution_count": 5,
   "metadata": {},
   "outputs": [
    {
     "name": "stdout",
     "output_type": "stream",
     "text": [
      "별표를 10번 출력합니다.\n",
      "**********\n"
     ]
    }
   ],
   "source": [
    "n = 10\n",
    "print(\"별표를 \" + str(n) + \"번 출력합니다.\")\n",
    "print(\"*\" * n)"
   ]
  },
  {
   "cell_type": "markdown",
   "metadata": {},
   "source": [
    "# 한줄 띄우기 : \\n"
   ]
  },
  {
   "cell_type": "code",
   "execution_count": 6,
   "metadata": {},
   "outputs": [
    {
     "name": "stdout",
     "output_type": "stream",
     "text": [
      "한 줄 쓰고\n",
      "그 다음 줄을 쓴다.\n"
     ]
    }
   ],
   "source": [
    "print(\"한 줄 쓰고\\n그 다음 줄을 쓴다.\")"
   ]
  },
  {
   "cell_type": "markdown",
   "metadata": {},
   "source": [
    "# 줄을 바꾸지 않고 이어서 출력하기 : end=\"\""
   ]
  },
  {
   "cell_type": "code",
   "execution_count": 7,
   "metadata": {},
   "outputs": [
    {
     "name": "stdout",
     "output_type": "stream",
     "text": [
      "한 줄 쓰고 이어서 쓴다.\n"
     ]
    }
   ],
   "source": [
    "print(\"한 줄 쓰고 \", end=\"\")\n",
    "print(\"이어서 쓴다.\")"
   ]
  },
  {
   "cell_type": "markdown",
   "metadata": {},
   "source": [
    "# 문자열 값을 가지는 변수"
   ]
  },
  {
   "cell_type": "code",
   "execution_count": 8,
   "metadata": {},
   "outputs": [
    {
     "name": "stdout",
     "output_type": "stream",
     "text": [
      "내 이름은 홍길동입니다.\n"
     ]
    }
   ],
   "source": [
    "name = \"홍길동\"\n",
    "print(\"내 이름은 \" + name + \"입니다.\")"
   ]
  },
  {
   "cell_type": "code",
   "execution_count": 9,
   "metadata": {},
   "outputs": [
    {
     "name": "stdout",
     "output_type": "stream",
     "text": [
      "$ 기호를 20번 출력합니다.\n",
      "$$$$$$$$$$$$$$$$$$$$\n"
     ]
    }
   ],
   "source": [
    "mark = \"$\"\n",
    "n = 20\n",
    "print(mark + \" 기호를 \" + str(n) + \"번 출력합니다.\")\n",
    "print(mark * n)"
   ]
  },
  {
   "cell_type": "markdown",
   "metadata": {},
   "source": [
    "# 따옴표 출력하기"
   ]
  },
  {
   "cell_type": "code",
   "execution_count": 10,
   "metadata": {},
   "outputs": [
    {
     "name": "stdout",
     "output_type": "stream",
     "text": [
      "둘리가 \"호이!\"하고 말했어요.\n"
     ]
    }
   ],
   "source": [
    "print('둘리가 \"호이!\"하고 말했어요.')"
   ]
  },
  {
   "cell_type": "code",
   "execution_count": 11,
   "metadata": {},
   "outputs": [
    {
     "name": "stdout",
     "output_type": "stream",
     "text": [
      "둘리가 '이제 어디로 가지?'하고 생각했어요.\n"
     ]
    }
   ],
   "source": [
    "print(\"둘리가 '이제 어디로 가지?'하고 생각했어요.\")"
   ]
  },
  {
   "cell_type": "markdown",
   "metadata": {},
   "source": [
    "# 여러 줄의 문자열 출력하기"
   ]
  },
  {
   "cell_type": "code",
   "execution_count": 12,
   "metadata": {},
   "outputs": [
    {
     "name": "stdout",
     "output_type": "stream",
     "text": [
      "\n",
      "파이썬은 1991년 프로그래머인 \n",
      "귀도 반 로섬이 발표한 고급 프로그래밍 언어로,\n",
      "플랫폼 독립적이며 인터프리터식, 객체지향적, 동적 타이핑\n",
      "대화형 언어이다. 파이썬이라는 이름은 귀도가 좋아하는 코미디 \n",
      "<Monty Python's Flying Circus>\n",
      "에서 따온 것이다.\n",
      "\n"
     ]
    }
   ],
   "source": [
    "multi_line_string = \"\"\"\n",
    "파이썬은 1991년 프로그래머인 \n",
    "귀도 반 로섬이 발표한 고급 프로그래밍 언어로,\n",
    "플랫폼 독립적이며 인터프리터식, 객체지향적, 동적 타이핑\n",
    "대화형 언어이다. 파이썬이라는 이름은 귀도가 좋아하는 코미디 \n",
    "<Monty Python's Flying Circus>\n",
    "에서 따온 것이다.\n",
    "\"\"\"\n",
    "\n",
    "print(multi_line_string)"
   ]
  },
  {
   "cell_type": "markdown",
   "metadata": {},
   "source": [
    "# Practice1"
   ]
  },
  {
   "cell_type": "code",
   "execution_count": 13,
   "metadata": {},
   "outputs": [
    {
     "name": "stdout",
     "output_type": "stream",
     "text": [
      "\n",
      "Beutiful is better than ugly.\n",
      "Explicit is better than implicit.\n",
      "Simple is better than complex.\n",
      "Complex is better than complicated.\n",
      "Flat is better than nested.\n",
      "Sparse is better than dense.\n",
      "\n"
     ]
    }
   ],
   "source": [
    "strings = \"\"\"\n",
    "Beutiful is better than ugly.\n",
    "Explicit is better than implicit.\n",
    "Simple is better than complex.\n",
    "Complex is better than complicated.\n",
    "Flat is better than nested.\n",
    "Sparse is better than dense.\n",
    "\"\"\"\n",
    "\n",
    "print(strings)"
   ]
  },
  {
   "cell_type": "code",
   "execution_count": 14,
   "metadata": {},
   "outputs": [
    {
     "name": "stdout",
     "output_type": "stream",
     "text": [
      "@@@@@@\n",
      "@    @\n",
      "@    @\n",
      "@    @\n",
      "@@@@@@\n"
     ]
    }
   ],
   "source": [
    "a = \"@\"\n",
    "b = 6\n",
    "\n",
    "print(a * 6)\n",
    "print(a + \" \" * 4 + a)\n",
    "print(a + \" \" * 4 + a)\n",
    "print(a + \" \" * 4 + a)\n",
    "print(a * 6)"
   ]
  },
  {
   "cell_type": "code",
   "execution_count": null,
   "metadata": {},
   "outputs": [],
   "source": []
  }
 ],
 "metadata": {
  "kernelspec": {
   "display_name": "Python 3",
   "language": "python",
   "name": "python3"
  },
  "language_info": {
   "codemirror_mode": {
    "name": "ipython",
    "version": 3
   },
   "file_extension": ".py",
   "mimetype": "text/x-python",
   "name": "python",
   "nbconvert_exporter": "python",
   "pygments_lexer": "ipython3",
   "version": "3.5.1"
  }
 },
 "nbformat": 4,
 "nbformat_minor": 2
}
