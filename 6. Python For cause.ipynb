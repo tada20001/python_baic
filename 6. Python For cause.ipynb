{
 "cells": [
  {
   "cell_type": "code",
   "execution_count": 2,
   "metadata": {},
   "outputs": [
    {
     "name": "stdout",
     "output_type": "stream",
     "text": [
      "=0=\n",
      "=1=\n",
      "=2=\n",
      "=3=\n",
      "=4=\n",
      "=5=\n",
      "=6=\n",
      "=7=\n",
      "=8=\n",
      "=9=\n"
     ]
    }
   ],
   "source": [
    "for i in range(10):\n",
    "    print(\"=\" + str(i) + \"=\")"
   ]
  },
  {
   "cell_type": "markdown",
   "metadata": {},
   "source": [
    "#### Practice 1"
   ]
  },
  {
   "cell_type": "code",
   "execution_count": 4,
   "metadata": {},
   "outputs": [
    {
     "name": "stdout",
     "output_type": "stream",
     "text": [
      "\n",
      "*\n",
      "**\n",
      "***\n",
      "****\n",
      "*****\n",
      "******\n",
      "*******\n",
      "********\n",
      "*********\n"
     ]
    }
   ],
   "source": [
    "for i in range(10):\n",
    "    print(\"*\" * i)"
   ]
  },
  {
   "cell_type": "markdown",
   "metadata": {},
   "source": [
    "#### Practice 2"
   ]
  },
  {
   "cell_type": "code",
   "execution_count": 5,
   "metadata": {},
   "outputs": [
    {
     "name": "stdout",
     "output_type": "stream",
     "text": [
      "**********\n",
      "*********\n",
      "********\n",
      "*******\n",
      "******\n",
      "*****\n",
      "****\n",
      "***\n",
      "**\n",
      "*\n"
     ]
    }
   ],
   "source": [
    "for i in range(10):\n",
    "    print(\"*\" * (10 - i))"
   ]
  },
  {
   "cell_type": "markdown",
   "metadata": {},
   "source": [
    "#### Practice 3"
   ]
  },
  {
   "cell_type": "code",
   "execution_count": 8,
   "metadata": {},
   "outputs": [
    {
     "name": "stdout",
     "output_type": "stream",
     "text": [
      "\n",
      "*\n",
      "**\n",
      "***\n",
      "****\n",
      "*****\n",
      "******\n",
      "*******\n",
      "********\n",
      "*********\n",
      "**********\n",
      "*********\n",
      "********\n",
      "*******\n",
      "******\n",
      "*****\n",
      "****\n",
      "***\n",
      "**\n",
      "*\n"
     ]
    }
   ],
   "source": [
    "for i in range(20):\n",
    "    if(i < 10):\n",
    "        print(\"*\" * i)\n",
    "    else:\n",
    "        print(\"*\" * (20-i))"
   ]
  },
  {
   "cell_type": "markdown",
   "metadata": {},
   "source": [
    "#### Practice 4"
   ]
  },
  {
   "cell_type": "code",
   "execution_count": 31,
   "metadata": {},
   "outputs": [
    {
     "name": "stdout",
     "output_type": "stream",
     "text": [
      "     *     \n",
      "    ***    \n",
      "   *****   \n",
      "  *******  \n",
      " ********* \n",
      "***********\n",
      " ********* \n",
      "  *******  \n",
      "   *****   \n",
      "    ***    \n",
      "     *     \n"
     ]
    }
   ],
   "source": [
    "for i in range(11):\n",
    "    if( i < 6):\n",
    "        print(\" \" * (5 - i) + \"*\" * (2 * i + 1) + \" \" * (5- i))\n",
    "    else:\n",
    "        print(\" \" * (i - 5) + \"*\" * ((11 - i) * 2 - 1) + \" \" * (i - 5))"
   ]
  },
  {
   "cell_type": "markdown",
   "metadata": {},
   "source": [
    "### 중첩 for 반복문"
   ]
  },
  {
   "cell_type": "code",
   "execution_count": 36,
   "metadata": {},
   "outputs": [
    {
     "name": "stdout",
     "output_type": "stream",
     "text": [
      "0 1 2 3 \n",
      "1 2 3 4 \n",
      "2 3 4 5 \n",
      "3 4 5 6 \n"
     ]
    }
   ],
   "source": [
    "for i in range(4):\n",
    "    for j in range(4):\n",
    "        print(i + j, end=\" \")\n",
    "    print()"
   ]
  },
  {
   "cell_type": "code",
   "execution_count": 37,
   "metadata": {},
   "outputs": [
    {
     "name": "stdout",
     "output_type": "stream",
     "text": [
      "1 1\n",
      "1 2\n",
      "1 3\n",
      "1 4\n",
      "1 5\n",
      "1 6\n",
      "2 1\n",
      "2 2\n",
      "2 3\n",
      "2 4\n",
      "2 5\n",
      "2 6\n",
      "3 1\n",
      "3 2\n",
      "3 3\n",
      "3 4\n",
      "3 5\n",
      "3 6\n",
      "4 1\n",
      "4 2\n",
      "4 3\n",
      "4 4\n",
      "4 5\n",
      "4 6\n",
      "5 1\n",
      "5 2\n",
      "5 3\n",
      "5 4\n",
      "5 5\n",
      "5 6\n",
      "6 1\n",
      "6 2\n",
      "6 3\n",
      "6 4\n",
      "6 5\n",
      "6 6\n"
     ]
    }
   ],
   "source": [
    "# 주사위 경우의 수\n",
    "\n",
    "for i in range(6):\n",
    "    n1 = i + 1\n",
    "    for j in range(6):\n",
    "        n2 = j + 1\n",
    "        print(n1, n2)"
   ]
  },
  {
   "cell_type": "code",
   "execution_count": 38,
   "metadata": {},
   "outputs": [
    {
     "name": "stdout",
     "output_type": "stream",
     "text": [
      "1 3\n",
      "2 2\n",
      "2 6\n",
      "3 1\n",
      "3 5\n",
      "4 4\n",
      "5 3\n",
      "6 2\n",
      "6 6\n"
     ]
    }
   ],
   "source": [
    "for i in range(6):\n",
    "    n1 = i + 1\n",
    "    for j in range(6):\n",
    "        n2 = j + 1\n",
    "        if (n1 + n2) % 4 == 0:\n",
    "            print(n1, n2)"
   ]
  },
  {
   "cell_type": "markdown",
   "metadata": {},
   "source": [
    "#### Practice 5"
   ]
  },
  {
   "cell_type": "code",
   "execution_count": 43,
   "metadata": {},
   "outputs": [
    {
     "name": "stdout",
     "output_type": "stream",
     "text": [
      "0 0 0\n",
      "2048 4096 8192\n",
      "0 0 1\n",
      "2048 4096 2048.0\n",
      "0 1 0\n",
      "2048 1024.0 2048.0\n",
      "0 1 1\n",
      "2048 1024.0 512.0\n",
      "1 0 0\n",
      "512.0 1024.0 2048.0\n",
      "1 0 1\n",
      "512.0 1024.0 512.0\n",
      "1 1 0\n",
      "512.0 256.0 512.0\n",
      "1 1 1\n",
      "512.0 256.0 128.0\n"
     ]
    }
   ],
   "source": [
    "\"\"\"\n",
    "어떤 주식의 가격은 매일 한 번 동전을 던져서 앞면이 나오면 전날 가격의 2배가 되고, 뒷면이 나오면 전날 가격의 절반이 된다. \n",
    "1일에 주식의 가격이 1,024원이었을 때, 4일 주식의 가격이 나올 수 있는 경우를 모두 구한다. (힌트: for 반복문이 3개 중첩되어야 한다)\n",
    "\"\"\"\n",
    "price = 1024\n",
    "\n",
    "for i in range(2):   # 2nd day\n",
    "    if i == 0:\n",
    "        price1 = price * 2\n",
    "    else:\n",
    "        price1 = price * 0.5\n",
    "    for j in range(2): # 3rd day\n",
    "        if j==0:\n",
    "            price2 = price1 * 2\n",
    "        else:\n",
    "            price2 = price1 * 0.5\n",
    "        for t in range(2): # 4th day\n",
    "            if t == 0:\n",
    "                price3 = price2 * 2\n",
    "            else:\n",
    "                price3 = price2 * 0.5\n",
    "            print(i, j, t)\n",
    "            print(price1, price2, price3)\n",
    "            "
   ]
  },
  {
   "cell_type": "markdown",
   "metadata": {},
   "source": [
    "### 카운터 변수가 변하는 경우"
   ]
  },
  {
   "cell_type": "code",
   "execution_count": 45,
   "metadata": {},
   "outputs": [
    {
     "name": "stdout",
     "output_type": "stream",
     "text": [
      "15\n"
     ]
    }
   ],
   "source": [
    "n = 5\n",
    "\n",
    "sum = 0\n",
    "for i in range(n):\n",
    "    sum = sum + (i + 1)\n",
    "\n",
    "print(sum)"
   ]
  },
  {
   "cell_type": "code",
   "execution_count": 46,
   "metadata": {},
   "outputs": [
    {
     "name": "stdout",
     "output_type": "stream",
     "text": [
      "1\n",
      "3\n",
      "6\n",
      "10\n",
      "15\n",
      "21\n",
      "28\n",
      "36\n",
      "45\n",
      "55\n"
     ]
    }
   ],
   "source": [
    "for j in range(10):\n",
    "    sum = 0\n",
    "    for i in range(j + 1):\n",
    "        sum = sum + (i + 1)\n",
    "    print(sum)"
   ]
  },
  {
   "cell_type": "markdown",
   "metadata": {},
   "source": [
    "#### Practice "
   ]
  },
  {
   "cell_type": "raw",
   "metadata": {},
   "source": [
    "다음과 같은 수열이 있을 경우에  𝑛 번째 수열의 값을 구한다.\n",
    "\n",
    "1\n",
    " \n",
    "1+(1+2)\n",
    " \n",
    "1+(1+2)+(1+2+3)\n",
    " \n",
    "1+(1+2)+(1+2+3)+(1+2+3+4)\n",
    " \n",
    "⋮\n",
    " \n",
    "1+(1+2)+(1+2+3)+(1+2+3+4)+⋯+(1+⋯+𝑛)"
   ]
  },
  {
   "cell_type": "code",
   "execution_count": 61,
   "metadata": {},
   "outputs": [
    {
     "name": "stdout",
     "output_type": "stream",
     "text": [
      "1\n",
      "4\n",
      "10\n",
      "20\n",
      "35\n",
      "56\n",
      "84\n",
      "120\n",
      "165\n",
      "220\n"
     ]
    }
   ],
   "source": [
    "n = 10\n",
    "\n",
    "for i in range(n):\n",
    "    sum = 0\n",
    "    for j in range(i + 1):\n",
    "        for t in range(j + 1):\n",
    "            sum = sum + (t + 1)\n",
    "    print(sum)\n",
    "    "
   ]
  },
  {
   "cell_type": "code",
   "execution_count": null,
   "metadata": {},
   "outputs": [],
   "source": []
  }
 ],
 "metadata": {
  "kernelspec": {
   "display_name": "Python 3",
   "language": "python",
   "name": "python3"
  },
  "language_info": {
   "codemirror_mode": {
    "name": "ipython",
    "version": 3
   },
   "file_extension": ".py",
   "mimetype": "text/x-python",
   "name": "python",
   "nbconvert_exporter": "python",
   "pygments_lexer": "ipython3",
   "version": "3.5.1"
  }
 },
 "nbformat": 4,
 "nbformat_minor": 2
}
